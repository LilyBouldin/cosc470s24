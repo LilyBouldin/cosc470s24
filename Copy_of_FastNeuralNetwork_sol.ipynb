{
  "cells": [
    {
      "cell_type": "markdown",
      "metadata": {
        "id": "view-in-github",
        "colab_type": "text"
      },
      "source": [
        "<a href=\"https://colab.research.google.com/github/LilyBouldin/cosc470s24/blob/main/Copy_of_FastNeuralNetwork_sol.ipynb\" target=\"_parent\"><img src=\"https://colab.research.google.com/assets/colab-badge.svg\" alt=\"Open In Colab\"/></a>"
      ]
    },
    {
      "cell_type": "markdown",
      "metadata": {
        "id": "X6OTVSJZLxzO"
      },
      "source": [
        "The **Hello, world** of neural networks\n",
        "This code builds a simple neural network that can recognize handwritten 28x28 pixel digits.\n",
        "\n",
        "Our first version will have 15 neurons in the hidden layer and 10 output neurons.\n",
        "\n",
        "See image below:\n",
        "http://neuralnetworksanddeeplearning.com/images/tikz12.png\n",
        "\n",
        "How many weights in this network?\n",
        "11760 weights in the first layer (784 * 15) and 150 weights in the second layer (15 * 10) = 11910 weights total\n",
        "15 biases in the hidden layer and 10 biases in the output layer = 25 biases total.\n",
        "11910 + 25 = 11935 parameters!"
      ]
    },
    {
      "cell_type": "code",
      "execution_count": 21,
      "metadata": {
        "colab": {
          "base_uri": "https://localhost:8080/"
        },
        "id": "NQQ0yjJ6LUBN",
        "outputId": "3b78e448-d926-4219-8a96-12bec95c594d"
      },
      "outputs": [
        {
          "output_type": "stream",
          "name": "stdout",
          "text": [
            "Cloning into 'nn'...\n",
            "remote: Enumerating objects: 63, done.\u001b[K\n",
            "remote: Counting objects: 100% (8/8), done.\u001b[K\n",
            "remote: Compressing objects: 100% (8/8), done.\u001b[K\n",
            "remote: Total 63 (delta 1), reused 3 (delta 0), pack-reused 55\u001b[K\n",
            "Receiving objects: 100% (63/63), 16.43 MiB | 22.87 MiB/s, done.\n",
            "Resolving deltas: 100% (28/28), done.\n",
            "/content/nn/nn/nn\n"
          ]
        }
      ],
      "source": [
        "!git clone https://github.com/MichalDanielDobrzanski/DeepLearningPython nn\n",
        "%cd nn"
      ]
    },
    {
      "cell_type": "code",
      "execution_count": 22,
      "metadata": {
        "id": "TY_GaewAIO1z"
      },
      "outputs": [],
      "source": [
        "# this code depends on having executed the previous cell\n",
        "# (i.e., you need to have cloned the nn code and cd'ed into it)\n",
        "import network\n",
        "import mnist_loader\n",
        "training_data, validation_data, test_data = mnist_loader.load_data_wrapper()\n",
        "training_data = list(training_data)\n",
        "test_data = list(test_data)\n"
      ]
    },
    {
      "cell_type": "code",
      "execution_count": 23,
      "metadata": {
        "colab": {
          "base_uri": "https://localhost:8080/"
        },
        "id": "5OCPyJhtQYtc",
        "outputId": "0f684fd1-92de-4997-fb83-86fc6bc910ff"
      },
      "outputs": [
        {
          "output_type": "stream",
          "name": "stdout",
          "text": [
            "(50000, 2)\n",
            "(784, 1)\n",
            "(10, 1)\n",
            "[[0.]\n",
            " [0.]\n",
            " [0.]\n",
            " [0.]\n",
            " [0.]\n",
            " [1.]\n",
            " [0.]\n",
            " [0.]\n",
            " [0.]\n",
            " [0.]]\n"
          ]
        },
        {
          "output_type": "stream",
          "name": "stderr",
          "text": [
            "/usr/local/lib/python3.10/dist-packages/numpy/core/fromnumeric.py:2009: VisibleDeprecationWarning: Creating an ndarray from ragged nested sequences (which is a list-or-tuple of lists-or-tuples-or ndarrays with different lengths or shapes) is deprecated. If you meant to do this, you must specify 'dtype=object' when creating the ndarray.\n",
            "  result = asarray(a).shape\n"
          ]
        }
      ],
      "source": [
        "import numpy as np\n",
        "print(np.shape(training_data))\n",
        "print(np.shape(training_data[0][0]))\n",
        "print(np.shape(training_data[0][1]))\n",
        "print(training_data[0][1])"
      ]
    },
    {
      "cell_type": "code",
      "execution_count": 24,
      "metadata": {
        "colab": {
          "base_uri": "https://localhost:8080/"
        },
        "id": "xiMrbkucJPL9",
        "outputId": "d9205414-fe01-4ead-f155-5bc32dddbdf5"
      },
      "outputs": [
        {
          "output_type": "stream",
          "name": "stdout",
          "text": [
            "The first image was a 5 and its darkness was 107.51953125\n",
            "The second image was a 0 and its darkness was 121.46484375\n",
            "[4932, 5678, 4968, 5101, 4859, 4506, 4951, 5175, 4842, 4988]\n",
            "[135.8691200324412, 59.66034750352237, 116.294303857186, 110.87092451235051, 95.22073970338548, 100.34646166222814, 107.38312020298929, 89.8788345410628, 117.88056410703221, 96.0455585592923]\n",
            "[0.5418367346938775, 0.8290748898678414, 0.04844961240310078, 0.048514851485148516, 0.048879837067209775, 0.0795964125560538, 0.06576200417536535, 0.28793774319066145, 0.13655030800821355, 0.04261645193260654]\n"
          ]
        }
      ],
      "source": [
        "# average digit darkness\n",
        "# step 1 - write a function that can calculate the darkness of a single image\n",
        "def image_darkness(imgpixeldata):\n",
        "  darkness_total = 0\n",
        "  for x in imgpixeldata:\n",
        "    darkness_total = darkness_total + x\n",
        "  return darkness_total[0]\n",
        "\n",
        "# step 2 - call that function on all the training images and calculate the average darkness of each digit\n",
        "darkness = image_darkness(training_data[0][0])\n",
        "whichimage = np.argmax(training_data[0][1])\n",
        "print(f\"The first image was a {whichimage} and its darkness was {darkness}\")\n",
        "darkness = image_darkness(training_data[1][0])\n",
        "whichimage = np.argmax(training_data[1][1])\n",
        "print(f\"The second image was a {whichimage} and its darkness was {darkness}\")\n",
        "\n",
        "#np.argmax finds the index of the maximum value, which would return 10\n",
        "\n",
        "# define a 10-element list of darkness totals\n",
        "darkness_totals = [0 for _ in range(10)]\n",
        "# define a 10-elment list of digit counts\n",
        "darkness_counts = [0 for _ in range(10)]\n",
        "\n",
        "# iterate through each image and update the two data structures\n",
        "for training_img in training_data:\n",
        "  darkness = image_darkness(training_img[0]) # replace this with the correct function call!\n",
        "  whichimage = np.argmax(training_img[1])\n",
        "  darkness_totals[whichimage] += darkness\n",
        "  darkness_counts[whichimage] += 1\n",
        "\n",
        "# now calculate the averages\n",
        "darkness_averages = [darkness_totals[i]/darkness_counts[i] for i in range(10)]\n",
        "\n",
        "print(darkness_counts)\n",
        "print(darkness_averages)\n",
        "\n",
        "# step 3 - use those averages to classify all the test data images and count how many of each digit you get right\n",
        "def find_closest(darkness, darkness_averages):\n",
        "  # add code here that determines which average was closest to darkness\n",
        "  closest_index = min(range(len(darkness_averages)), key=lambda i: abs(darkness_averages[i]- darkness))\n",
        "\n",
        "  return closest_index\n",
        "\n",
        "correct_counts = [0 for _ in range(10)]\n",
        "wrong_counts = [0 for _ in range(10)]\n",
        "\n",
        "for imgdata, whichimage in test_data:\n",
        "  darkness = image_darkness(imgdata)\n",
        "  # see which darkness_average is closest to \"darkness\" and make that our classification for this image\n",
        "  closest_digit = find_closest(darkness, darkness_averages)\n",
        "  if closest_digit == whichimage:\n",
        "    correct_counts[whichimage] += 1\n",
        "  else:\n",
        "    wrong_counts[whichimage] += 1\n",
        "\n",
        "# now that we have our correct/wrong counts, turn that into accuracies\n",
        "digit_accuracies = [correct_counts[i]/(correct_counts[i]+wrong_counts[i]) for i in range(10)]\n",
        "print(digit_accuracies)"
      ]
    },
    {
      "cell_type": "code",
      "execution_count": 25,
      "metadata": {
        "colab": {
          "base_uri": "https://localhost:8080/"
        },
        "id": "vRcQD33wRB1c",
        "outputId": "f250074d-30a0-42e3-b0f0-3d531935b46a"
      },
      "outputs": [
        {
          "output_type": "stream",
          "name": "stdout",
          "text": [
            "(10000, 2)\n",
            "(2,)\n",
            "7\n"
          ]
        }
      ],
      "source": [
        "print(np.shape(test_data))\n",
        "print(np.shape(test_data[0]))\n",
        "print(test_data[0][1])\n"
      ]
    },
    {
      "cell_type": "code",
      "execution_count": 26,
      "metadata": {
        "colab": {
          "base_uri": "https://localhost:8080/"
        },
        "id": "V3qm9cgIQ2rh",
        "outputId": "63965d43-d0ee-48fe-b1ba-62d9924b654e"
      },
      "outputs": [
        {
          "output_type": "stream",
          "name": "stdout",
          "text": [
            "Epoch 0 : 9021 / 10000\n",
            "Epoch 1 : 9201 / 10000\n",
            "Epoch 2 : 9304 / 10000\n",
            "Epoch 3 : 9319 / 10000\n",
            "Epoch 4 : 9346 / 10000\n"
          ]
        }
      ],
      "source": [
        "# part 2 - use this default configuration and the following hyper-parameters\n",
        "#    epochs - 30\n",
        "#    batch size - 10\n",
        "#    learning rate - 3.0\n",
        "net = network.Network([784, 30, 10])\n",
        "net.SGD(training_data, 5, 10, 3.0, test_data=test_data)\n"
      ]
    },
    {
      "cell_type": "code",
      "source": [
        "find_closest(darkness, darkness_averages)"
      ],
      "metadata": {
        "colab": {
          "base_uri": "https://localhost:8080/"
        },
        "id": "Is3p1wxwxTui",
        "outputId": "26aa38ed-5e56-4780-e172-2ad7a469815e"
      },
      "execution_count": 27,
      "outputs": [
        {
          "output_type": "execute_result",
          "data": {
            "text/plain": [
              "0"
            ]
          },
          "metadata": {},
          "execution_count": 27
        }
      ]
    },
    {
      "cell_type": "code",
      "execution_count": 28,
      "metadata": {
        "colab": {
          "base_uri": "https://localhost:8080/"
        },
        "id": "LPbCl_Rio5bK",
        "outputId": "ca81783a-6fbc-4b12-f605-10b5fb5db923"
      },
      "outputs": [
        {
          "output_type": "stream",
          "name": "stdout",
          "text": [
            "[[1.75337408e-08]\n",
            " [9.98540588e-01]\n",
            " [1.12218653e-03]\n",
            " [1.24539466e-03]\n",
            " [1.09803913e-06]\n",
            " [1.84307161e-04]\n",
            " [1.52916787e-03]\n",
            " [8.47381497e-06]\n",
            " [1.57844313e-03]\n",
            " [5.75984736e-05]]\n",
            "1\n",
            "1\n",
            "[958, 1110, 958, 944, 930, 760, 914, 958, 908, 906]\n",
            "[980, 1135, 1032, 1010, 982, 892, 958, 1028, 974, 1009]\n",
            "[0.9775510204081632, 0.9779735682819384, 0.9282945736434108, 0.9346534653465347, 0.9470468431771895, 0.852017937219731, 0.954070981210856, 0.9319066147859922, 0.9322381930184805, 0.8979187314172448]\n"
          ]
        }
      ],
      "source": [
        "import numpy as np\n",
        "a = net.feedforward(test_data[2][0])\n",
        "print(a)\n",
        "print(np.argmax(a))\n",
        "print(test_data[2][1])\n",
        "\n",
        "# per digit accuracies\n",
        "# loop through the test data again\n",
        "# calculate how many of each digit was classified correctly\n",
        "\n",
        "correct_counts = [0 for _ in range(10)]\n",
        "digit_counts = [0 for _ in range(10)]\n",
        "\n",
        "for (x, y) in test_data:\n",
        "  a = np.argmax(net.feedforward(x))\n",
        "  if a == y:\n",
        "    correct_counts[y] += 1\n",
        "  digit_counts[y] += 1\n",
        "\n",
        "print(correct_counts)\n",
        "print(digit_counts)\n",
        "accuracies = [correct_counts[i]/digit_counts[i] for i in range(10)]\n",
        "print(accuracies)"
      ]
    },
    {
      "cell_type": "code",
      "execution_count": 29,
      "metadata": {
        "colab": {
          "base_uri": "https://localhost:8080/",
          "height": 487
        },
        "id": "T9P4DXeSBlAK",
        "outputId": "d38a2d84-df10-43be-900b-dc45dd6ce0d3"
      },
      "outputs": [
        {
          "output_type": "display_data",
          "data": {
            "text/plain": [
              "<Figure size 1000x500 with 1 Axes>"
            ],
            "image/png": "[encoded data removed]"
          },
          "metadata": {}
        }
      ],
      "source": [
        "import matplotlib.pyplot as plt\n",
        "fig = plt.figure(figsize = (10, 5))\n",
        " # creating the bar plot\n",
        "plt.bar(range(0,10), accuracies, color ='maroon',\n",
        "        width = 0.4)\n",
        "plt.xlabel(\"Digit\")\n",
        "plt.ylabel(\"Accuracy\")\n",
        "plt.title(\"Per digit accuracy for standard hyperparams\")\n",
        "plt.show()"
      ]
    },
    {
      "cell_type": "code",
      "execution_count": 30,
      "metadata": {
        "colab": {
          "base_uri": "https://localhost:8080/"
        },
        "id": "-adILgnNKqe9",
        "outputId": "ce007ef8-5937-42cf-d58c-ff60d97f415c"
      },
      "outputs": [
        {
          "output_type": "stream",
          "name": "stdout",
          "text": [
            "(30, 784)\n",
            "[[-0.60958674 -0.0865174   0.3284175  ...  0.15786487  1.06631047\n",
            "   0.58397795]\n",
            " [-0.01994677  0.28184096  0.19731598 ...  1.15657747 -0.36706533\n",
            "  -0.10491543]\n",
            " [ 0.96412226 -0.09212673 -0.25954087 ...  0.47865039  1.4157626\n",
            "   0.06109503]\n",
            " ...\n",
            " [-0.30027843 -0.18595581  0.70876953 ...  1.32224738  0.52727775\n",
            "   0.69027101]\n",
            " [ 0.98169759  0.01135263 -0.18664791 ... -0.41550301  0.0187504\n",
            "  -1.13013705]\n",
            " [ 2.30967295 -0.7214351   0.00345056 ... -1.69182286  2.14512092\n",
            "   1.00027855]]\n"
          ]
        }
      ],
      "source": [
        "print(np.shape(net.weights[0]))\n",
        "print(net.weights[0])"
      ]
    },
    {
      "cell_type": "code",
      "execution_count": 31,
      "metadata": {
        "colab": {
          "base_uri": "https://localhost:8080/"
        },
        "id": "3HFpBqj4MJWh",
        "outputId": "eae87398-76a6-4925-abea-a36065ee99ce"
      },
      "outputs": [
        {
          "output_type": "stream",
          "name": "stdout",
          "text": [
            "(10, 30)\n",
            "[[-0.43694461 -2.8251481  -0.54423504 -2.34567508 -1.58133346  0.74471228\n",
            "   0.40614714 -2.29718792 -3.79261643  1.5522701  -2.53343905 -2.83364135\n",
            "  -0.916446   -1.71543881  1.65101566 -1.81714041  3.29933961  0.32602743\n",
            "  -1.21124346 -1.19007831  3.35830144  1.48065797 -0.51763893  1.06629664\n",
            "  -1.48865263 -2.68062008 -1.61897618  2.22724647 -1.15330795 -2.85362737]\n",
            " [ 1.90890367  1.89744895  3.53780161  1.42371692 -1.61379178 -1.96149736\n",
            "  -2.20237189 -1.884352    1.30400244 -0.65302684 -2.72040591  0.51909535\n",
            "  -2.36430016 -1.64496942  4.46109764 -1.69149667 -0.370092   -1.55268349\n",
            "  -0.63098952 -1.32315526 -1.8614026  -1.78743229  1.28073371 -2.38950795\n",
            "  -1.7132644   2.08830072 -1.41682812 -1.4609895   1.51178153 -2.51013869]\n",
            " [-1.42103961  2.68982421 -0.64491325  1.03781455 -2.32515691  0.64873684\n",
            "   1.23493071 -4.11425534  2.08938829 -0.71243749 -1.06227812 -1.03607611\n",
            "  -4.98792827 -2.97507336 -2.75934346 -1.38932867 -0.18717331  1.76974802\n",
            "   4.5561607  -2.70837893  1.67353604  1.98313162  1.55806166  0.39833242\n",
            "  -2.62397242 -1.98973946  1.84900535 -1.53546886 -1.84243274  3.28270782]\n",
            " [ 1.8257618  -2.00197903 -1.73733177  1.74501916 -0.61582816  1.1974841\n",
            "   0.08145011 -1.6987707   1.07539901  0.36811993 -1.28839021  2.19359494\n",
            "  -3.1748011  -3.13596415 -3.91190692 -0.90454754 -3.2134208  -2.25619126\n",
            "  -2.35964182  0.42631803 -3.89505467  1.36683579 -0.20847249  0.63497169\n",
            "  -0.35621488 -0.56261007 -3.23569721 -0.85775847 -0.86099918 -1.85801547]\n",
            " [ 0.76569107 -0.45899268 -1.41968735  1.15309603 -0.7286932  -0.65275201\n",
            "   2.93879029  2.53984145  1.2606927  -2.63640691  1.52381623 -1.1793985\n",
            "  -2.4095184   0.67323323 -1.7690519  -3.2719895   1.48240633 -1.54256343\n",
            "  -2.17416894 -2.19719254  1.38515695 -1.07371565 -5.17776887 -2.58754754\n",
            "  -0.8647254   0.90632323 -0.86765308 -0.10891787  3.24938711  3.14568098]\n",
            " [-4.83622421  0.26902463  2.94099303  0.85728348  3.33270946 -1.37882488\n",
            "   2.17864359 -4.28668906 -2.43202478  0.49992136  0.62470858  4.06209503\n",
            "   3.43683668  2.24333101 -0.07237871 -1.89879017  2.5360225   1.63793931\n",
            "  -1.56136924  0.32330512 -6.95108525 -2.21709565 -0.31346837  1.94238184\n",
            "  -1.11364753 -0.03837364 -1.54135619  0.60671083 -0.85239403 -1.13577729]\n",
            " [ 0.71067916  1.05779306  0.7276146  -1.19477647 -0.9974776   1.27634061\n",
            "  -3.36779018 -0.30570841 -0.47386775  2.53178857  1.6955861  -4.1542317\n",
            "   1.53172195 -1.37705721  0.37862202 -1.76891621 -0.74624651 -0.67998511\n",
            "  -2.18685522 -0.97512406 -0.46105688 -4.20444605 -2.87790814  0.69576445\n",
            "  -0.45282346 -3.08996695 -0.9913547   1.71068307  1.41521927  2.78767773]\n",
            " [ 0.14809603 -0.8980512  -2.51051193 -0.77702716  3.00298058 -2.22104966\n",
            "   0.52678769  5.44821724 -1.59912204 -1.55218557  0.7981975   0.56013415\n",
            "   2.21087642 -2.10622197  1.3237617   0.63767976 -1.73940246 -0.33770298\n",
            "   3.54938066 -1.33771087  0.61390387 -0.82882967 -0.93966189 -2.80237737\n",
            "  -1.09038459  0.4431244   1.32732287 -2.54972242 -3.91388277 -4.11360425]\n",
            " [ 1.18353196 -1.14599605 -3.98123827 -0.71137911 -1.14493285  1.34824954\n",
            "   1.81871854 -2.8211764   3.64223443  4.76948508  0.82332611 -4.59929448\n",
            "  -1.58477585  0.62849532 -2.71161539 -3.70559315  0.84753761  1.93753357\n",
            "  -5.30819183 -3.46966064  0.23494542 -1.23723715  0.04306785 -0.74709783\n",
            "  -3.34664424  1.62905378  2.35388621 -0.47309356  1.91321446 -2.59422651]\n",
            " [-0.30597644 -1.56390036 -1.62783483 -1.6003106  -2.14768387 -0.36305852\n",
            "  -1.29977512  2.15755457  0.89167788 -4.07420709  1.72000967 -0.48543775\n",
            "  -0.39062239  1.35615313 -2.08776108 -2.55017209 -1.0492565   0.13178148\n",
            "  -3.86835069 -2.34046677 -0.20024696  0.64353594  5.02154936  1.20918206\n",
            "  -2.59288437 -0.60254076 -1.16557142 -0.85130235  5.17097211 -2.06590967]]\n"
          ]
        }
      ],
      "source": [
        "print(np.shape(net.weights[1]))\n",
        "print(net.weights[1])"
      ]
    },
    {
      "cell_type": "code",
      "execution_count": 32,
      "metadata": {
        "id": "hd3TYzZ9_d4j"
      },
      "outputs": [],
      "source": [
        "# part 3 - experiment with different hyper parameters\n",
        "#  epochs - 5, 15, 30, 60 (batch size 10, learning 3.0)\n",
        "#  batch - 5, 10, 50, 100 (epochs 30, learning 3.0)\n",
        "#  learning rate - 1.0, 3.0, 5.0 (epochs 30, batch size 10)"
      ]
    }
  ],
  "metadata": {
    "colab": {
      "provenance": [],
      "include_colab_link": true
    },
    "kernelspec": {
      "display_name": "Python 3",
      "name": "python3"
    },
    "language_info": {
      "name": "python"
    }
  },
  "nbformat": 4,
  "nbformat_minor": 0
}