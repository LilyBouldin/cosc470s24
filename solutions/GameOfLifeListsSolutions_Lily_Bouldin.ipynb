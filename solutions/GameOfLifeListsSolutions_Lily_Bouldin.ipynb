{
  "nbformat": 4,
  "nbformat_minor": 0,
  "metadata": {
    "colab": {
      "provenance": [],
      "include_colab_link": true
    },
    "kernelspec": {
      "name": "python3",
      "display_name": "Python 3"
    },
    "language_info": {
      "name": "python"
    }
  },
  "cells": [
    {
      "cell_type": "markdown",
      "metadata": {
        "id": "view-in-github",
        "colab_type": "text"
      },
      "source": [
        "<a href=\"https://colab.research.google.com/github/LilyBouldin/cosc470s24/blob/main/solutions/GameOfLifeListsSolutions_Lily_Bouldin.ipynb\" target=\"_parent\"><img src=\"https://colab.research.google.com/assets/colab-badge.svg\" alt=\"Open In Colab\"/></a>"
      ]
    },
    {
      "cell_type": "code",
      "execution_count": 32,
      "metadata": {
        "id": "CxYh2gy2wTtQ"
      },
      "outputs": [],
      "source": [
        "# -*- coding: utf-8 -*-\n",
        "\"\"\"\n",
        "Created on Tue Sep 27 14:02:07 2016\n",
        "Modified 28 October 2022\n",
        "\n",
        "@author: pcutter\n",
        "\n",
        "Program Description:  This program implements Conway's game of life.eeeee\n",
        "\n",
        "\"\"\"\n",
        "import random\n",
        "import numpy as np\n",
        "import matplotlib.pyplot as plt\n",
        "\n",
        "def loadWorld(wsize, whichone):\n",
        "  world = generateWorld(wsize, 0) # generates an empty world\n",
        "  if whichone == 1:\n",
        "    insertList = [[1, 0, 0],\n",
        "                  [0, 1, 1],\n",
        "                  [1, 1, 0]]\n",
        "  elif whichone == 2:\n",
        "    insertList = [[0, 0, 0, 0, 0, 0, 0, 0, 0, 0],\n",
        "                  [0, 0, 0, 0, 0, 0, 0, 0, 0, 0],\n",
        "                  [1, 1, 1, 0, 0, 0, 1, 1, 1, 0],\n",
        "                  [0, 0, 0, 0, 0, 0, 0, 1, 1, 1]]\n",
        "  elif whichone == 3:\n",
        "    X = np.zeros((17, 17))\n",
        "    X[2, 4:7] = 1\n",
        "    X[4:7, 7] = 1\n",
        "    X += X.T\n",
        "    X += X[:, ::-1]\n",
        "    X += X[::-1, :]\n",
        "    world = list(X)\n",
        "    return world\n",
        "  for r in range(len(insertList)):\n",
        "    for c in range(len(insertList[0])):\n",
        "      world[r][c] = insertList[r][c]\n",
        "  return world\n",
        "\n",
        "\"\"\" This function randomly generates a world for Conway's game of life.\n",
        "PARAMETERS:\n",
        "    wsize - The world is represented by a wsize x wsize list\n",
        "    p1 - Proportion of cells that should be 1 (alive) when the program starts\n",
        "\n",
        "RETURNS:\n",
        "    world - A wsize x wsize list of 1s and 0s\n",
        "\"\"\"\n",
        "def generateWorld(wsize, p1):\n",
        "    world = []\n",
        "    for i in range(wsize):\n",
        "      world.append(random.choices([0,1],weights=(1-p1,p1),k=wsize))\n",
        "    printWorld(world)\n",
        "    return world\n",
        "\n",
        "\"\"\" This function prints a 2d list of 0s and 1s in rows and columns.\n",
        "PARAMETERS:\n",
        "    world - a list of 0s and 1s\n",
        "\"\"\"\n",
        "def printWorld(world):\n",
        "  for line in world:\n",
        "    print(line)\n",
        "\n",
        "\n",
        "\"\"\" This function displays a list of 2d worlds of 0s and 1s as black and white squares.\n",
        "PARAMETERS:\n",
        "    worlds - a list of worlds of 0s and 1s\n",
        "\"\"\"\n",
        "def displayWorld(worlds):\n",
        "    for world in worlds:\n",
        "        plt.imshow(world,cmap=plt.cm.gray)\n",
        "        plt.show()\n",
        "        plt.pause(0.1)\n",
        "        plt.close()\n",
        "\n",
        "\"\"\" This function counts the number of 1s among the eight neighbors\n",
        "    of cell at world[row][col].  Neighborhoods wrap at the edges of the list.\n",
        "PARAMETERS:\n",
        "    world - a 2d list of 0s and 1s\n",
        "    row, col - the position in the world to check\n",
        "RETURNS:\n",
        "    numNeighbors - the number of neighbors equal to 1\n",
        "\"\"\"\n",
        "\n",
        "def countNeighbors(world, row, col):\n",
        "    # Determine the number of rows and cols in the world.\n",
        "    rows = len(world)\n",
        "    cols = len(world[0])\n",
        "\n",
        "    # Determine what the next and previous row and column are\n",
        "    # If the specified cell is on the border, its neighborhood\n",
        "    # will wrap to the other border\n",
        "    nextRow = (row+1)%rows\n",
        "    prevRow = (row-1)%rows\n",
        "    nextCol = (col+1)%cols\n",
        "    prevCol = (col-1)%cols\n",
        "\n",
        "    # COMPLETE THE CODE BELOW TO CALCULATE THE NUMBER OF NEIGHBORS THAT ARE 1s.\n",
        "    # Add the three neighbor cells in the previous row to numNeighbors\n",
        "    numNeighbors = world[prevRow][prevCol] + world[prevRow][col] + world[prevRow][nextCol]\n",
        "\n",
        "    # Add the two neighbors in the same row to numNeighbors\n",
        "    numNeighbors += world[row][prevCol] + world[row][nextCol] # REPLACE THE 0 WITH SOMETHING APPROPRIATE\n",
        "\n",
        "    # Add the three neighbor cells in the next row to numNeighbors\n",
        "    numNeighbors += world[nextRow][prevCol] + world[nextRow][col] + world[nextRow][nextCol]  # REPLACE THE 0 WITH SOMETHING APPROPRIATE\n",
        "\n",
        "    return numNeighbors\n",
        "\n",
        "\"\"\" This function checks to see if a cell should live\n",
        "PARAMETERS:\n",
        "    world - A 2d list of 0s and 1s\n",
        "    row, col - The position in the world to check\n",
        "RETURNS:\n",
        "    1 if the cell should live\n",
        "    0 otherwise\n",
        "\"\"\"\n",
        "def isAlive(world, row, col):\n",
        "\n",
        "    # Determine the number of neighbors of the current cell\n",
        "    # Use the countNeighbors function\n",
        "    numNeighbors = countNeighbors(world, row, col)      # REPLACE THE 0 WITH SOMETHING APPROPRIATE\n",
        "\n",
        "    # WRITE CODE TO IMPLEMENT THE FOLLOWING LOGIC:\n",
        "    \"\"\" If the current cell is alive:\n",
        "            if it has 2 or 3 neighbors it should live on (stasis) (ie, return 1);\n",
        "            otherwise it should die (over- or underpopulation) (ie, return 0)\n",
        "        If the current cell is empty:\n",
        "            if it has exactly 3 neighbors, it should become alive (reproduction) (return 1)\n",
        "            otherwise it remains dead (return 0)\n",
        "    \"\"\"\n",
        "    if world[row][col]== 1:\n",
        "      return 1 if numNeighbors == 2 or numNeighbors == 3 else 0\n",
        "    else:\n",
        "      return 1 if numNeighbors == 3 else 0\n",
        "\n",
        "\n",
        "    return 0   # This line should get removed once the above logic is implemented\n",
        "\n",
        "\"\"\" This function runs the game of life simulation\n",
        "PARAMETERS:\n",
        "    wsize - The world is represented by a square wsize list\n",
        "    gens - The number of generations to simulate\n",
        "    prop_alive - Proportion of cells that should be 1 when the program starts\n",
        "                 This should be a real number in the range [0, 1].\n",
        "\"\"\"\n",
        "def simulation(wsize, gens, prop_alive):\n",
        "    # Generate the world\n",
        "    world = generateWorld(wsize,prop_alive)\n",
        "    # Alternatively, load a world\n",
        "    #world = loadWorld(wsize, 1)\n",
        "\n",
        "    #Create a list of worlds, 1 for the initial world, plus 1 for each generation\n",
        "    worlds = [0]*(gens+1)\n",
        "    worlds[0] = world\n",
        "    # Loop through each generation\n",
        "    for gen in range(gens):\n",
        "        nextWorld = [[0]*wsize for i in range(wsize)]  # A list of 0s for the next gen\n",
        "        rows,cols = len(world),len(world[0])\n",
        "\n",
        "        # FILL IN THE CODE HERE\n",
        "        for row in range(len(world)):\n",
        "          for col in range(len(world[0])):\n",
        "            nextWorld[row][col] = isAlive(world, row, col)\n",
        "        \"\"\" For every element in the world_next (ie, use a nested for loop)\n",
        "                Determine whether it should be alive or dead (set it to 1 or 0)\n",
        "                (Use the isAlive function to handle this)\n",
        "        \"\"\"\n",
        "\n",
        "        # Save the current world in the list to be displayed\n",
        "        worlds[gen+1] = nextWorld\n",
        "\n",
        "    # Return the list of worlds to be displayed\n",
        "    return worlds\n"
      ]
    },
    {
      "cell_type": "code",
      "source": [
        "world = generateWorld(10,0.3)\n",
        "print(countNeighbors(world, 5, 5))"
      ],
      "metadata": {
        "colab": {
          "base_uri": "https://localhost:8080/"
        },
        "id": "neXYrA_U38xB",
        "outputId": "d7f777bb-baff-4304-b1ce-8d359675a7bc"
      },
      "execution_count": 33,
      "outputs": [
        {
          "output_type": "stream",
          "name": "stdout",
          "text": [
            "[0, 0, 0, 0, 0, 1, 0, 1, 0, 1]\n",
            "[0, 0, 0, 1, 0, 0, 0, 0, 0, 0]\n",
            "[1, 0, 1, 0, 0, 0, 0, 0, 0, 0]\n",
            "[0, 1, 0, 0, 1, 0, 1, 0, 0, 0]\n",
            "[0, 1, 0, 0, 0, 0, 1, 0, 0, 0]\n",
            "[0, 0, 0, 0, 0, 0, 1, 0, 1, 0]\n",
            "[0, 0, 0, 0, 0, 0, 0, 0, 0, 0]\n",
            "[1, 0, 0, 0, 0, 0, 0, 1, 0, 0]\n",
            "[0, 0, 1, 1, 0, 0, 1, 0, 0, 1]\n",
            "[0, 1, 0, 1, 0, 1, 0, 0, 0, 1]\n",
            "2\n"
          ]
        }
      ]
    },
    {
      "cell_type": "code",
      "source": [
        "\n",
        "\"\"\" This function is the starting point for Conway's game of life.\n",
        "It gets input from the user for the size of the world, the number of generations,\n",
        "and the proportion of cells that should be alive.  It then runs the simulation\n",
        "\"\"\"\n",
        "def main():\n",
        "    wsize = int(input(\"The world will be an n x n size grid. Enter this a value for n: \"))\n",
        "    prop_alive = float(input(\"Enter proportion (a number between 0 and 1) of cells that should start as alive. \"))\n",
        "    gens = int(input(\"Enter the number of generations for the game of life to run: \"))\n",
        "    worlds = simulation(wsize, gens, prop_alive)\n",
        "    displayWorld(worlds)\n",
        "\n",
        "main()\n",
        "\n"
      ],
      "metadata": {
        "id": "TeqR_trUzMkx",
        "outputId": "b8ad5ad4-443e-45b9-acf2-999e9bc73f50",
        "colab": {
          "base_uri": "https://localhost:8080/",
          "height": 1000
        }
      },
      "execution_count": 34,
      "outputs": [
        {
          "output_type": "stream",
          "name": "stdout",
          "text": [
            "The world will be an n x n size grid. Enter this a value for n: 10\n",
            "Enter proportion (a number between 0 and 1) of cells that should start as alive. 0.5\n",
            "Enter the number of generations for the game of life to run: 5\n",
            "[1, 1, 0, 1, 0, 1, 1, 0, 0, 1]\n",
            "[1, 0, 0, 0, 1, 0, 1, 0, 0, 0]\n",
            "[0, 1, 0, 1, 0, 0, 0, 0, 0, 1]\n",
            "[1, 1, 0, 1, 1, 0, 1, 1, 0, 0]\n",
            "[0, 0, 1, 0, 0, 1, 0, 1, 1, 1]\n",
            "[0, 1, 1, 1, 0, 0, 0, 0, 0, 0]\n",
            "[0, 0, 1, 0, 1, 1, 1, 0, 1, 1]\n",
            "[0, 1, 0, 0, 0, 0, 1, 0, 1, 1]\n",
            "[0, 1, 0, 1, 0, 0, 1, 0, 1, 0]\n",
            "[0, 1, 1, 0, 0, 1, 0, 0, 1, 1]\n"
          ]
        },
        {
          "output_type": "display_data",
          "data": {
            "text/plain": [
              "<Figure size 640x480 with 1 Axes>"
            ],
            "image/png": "[encoded data removed]"
          },
          "metadata": {}
        },
        {
          "output_type": "display_data",
          "data": {
            "text/plain": [
              "<Figure size 640x480 with 1 Axes>"
            ],
            "image/png": "[encoded data removed]"
          },
          "metadata": {}
        },
        {
          "output_type": "display_data",
          "data": {
            "text/plain": [
              "<Figure size 640x480 with 1 Axes>"
            ],
            "image/png": "[encoded data removed]"
          },
          "metadata": {}
        },
        {
          "output_type": "display_data",
          "data": {
            "text/plain": [
              "<Figure size 640x480 with 1 Axes>"
            ],
            "image/png": "[encoded data removed]"
          },
          "metadata": {}
        },
        {
          "output_type": "display_data",
          "data": {
            "text/plain": [
              "<Figure size 640x480 with 1 Axes>"
            ],
            "image/png": "[encoded data removed]"
          },
          "metadata": {}
        },
        {
          "output_type": "display_data",
          "data": {
            "text/plain": [
              "<Figure size 640x480 with 1 Axes>"
            ],
            "image/png": "[encoded data removed]"
          },
          "metadata": {}
        }
      ]
    }
  ]
}